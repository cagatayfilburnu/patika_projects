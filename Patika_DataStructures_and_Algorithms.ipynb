{
 "cells": [
  {
   "cell_type": "markdown",
   "id": "003fa625",
   "metadata": {},
   "source": [
    "## Insertion Sort Projesi"
   ]
  },
  {
   "cell_type": "markdown",
   "id": "45b9cb0f",
   "metadata": {},
   "source": [
    "Proje 1\n",
    "[22,27,16,2,18,6] -> Insertion Sort\n",
    "\n",
    "1. Yukarı verilen dizinin sort türüne göre aşamalarını yazınız.\n",
    "2. Big-O gösterimini yazınız.\n",
    "3. Time Complexity: Average case: Aradığımız sayının ortada olması,Worst case: Aradığımız sayının sonda olması, Best case: Aradığımız sayının dizinin en başında olması.\n",
    "4. Dizi sıralandıktan sonra 18 sayısı hangi case kapsamına girer? Yazınız.\n",
    "\n",
    "[7,3,5,8,2,9,4,15,6] dizisinin Insertion Sort'a göre ilk 4 adımını yazınız."
   ]
  },
  {
   "cell_type": "markdown",
   "id": "48e229ee",
   "metadata": {},
   "source": [
    "#### Cevap:"
   ]
  },
  {
   "cell_type": "code",
   "execution_count": 4,
   "id": "2c85ad71",
   "metadata": {},
   "outputs": [],
   "source": [
    "# [22,27,16,2,18,6]\n",
    "\n",
    "# 1. Adım: [2,27,16,22,18,6]\n",
    "# 2. Adım: [2,6,16,22,18,27]\n",
    "# 3. Adım: [2,6,16,18,22,27]\n",
    "\n",
    "# Big-O gösterimi: O(n²)\n",
    "\n",
    "# 18 elemanı 2. index'de bulunur, ve average case kapsamındadır.\n",
    "\n",
    "# [7,3,5,8,2,9,4,15,6]:\n",
    "\n",
    "# [2,3,5,8,7,9,4,15,6]\n",
    "# [2,3,4,8,7,9,5,15,6]\n",
    "# [2,3,4,5,7,9,8,15,6]\n",
    "# [2,3,4,5,6,9,8,15,7]"
   ]
  },
  {
   "cell_type": "markdown",
   "id": "b894e1d2",
   "metadata": {},
   "source": [
    "# Merge Sort Projesi"
   ]
  },
  {
   "cell_type": "markdown",
   "id": "d82a2166",
   "metadata": {},
   "source": [
    "[16,21,11,8,12,22] -> Merge Sort\n",
    "\n",
    "1. Yukarıdaki dizinin sort türüne göre aşamalarını yazınız. \n",
    "2. Big-O gösterimini yazınız."
   ]
  },
  {
   "cell_type": "markdown",
   "id": "4f10e570",
   "metadata": {},
   "source": [
    "#### Cevap:"
   ]
  },
  {
   "cell_type": "code",
   "execution_count": 8,
   "id": "36fbe847",
   "metadata": {},
   "outputs": [],
   "source": [
    "# 1. Aşama:    (16,21,11) - (8,12,22)\n",
    "# 2. Aşama: (16,21) - (11) - (8,12) - (22)\n",
    "# 3. Aşama:    (11,16,21) - (8,12,22)\n",
    "# 4. Aşama:      (8,11,16,21,22)\n",
    "\n",
    "# Big-O gösterimi: O(nlogn)"
   ]
  },
  {
   "cell_type": "markdown",
   "id": "2a5b09fc",
   "metadata": {},
   "source": [
    "# Binary Search Tree Projesi"
   ]
  },
  {
   "cell_type": "markdown",
   "id": "d628db02",
   "metadata": {},
   "source": [
    "[7, 5, 1, 8, 3, 6, 0, 9, 4, 2] dizisinin Binary-Search-Tree aşamalarını yazınız."
   ]
  },
  {
   "cell_type": "code",
   "execution_count": 9,
   "id": "4ad72096",
   "metadata": {},
   "outputs": [],
   "source": [
    "# 0. Seviye:                7 = (Root)\n",
    "# 1. Seviye:            5      8\n",
    "# 2. Seviye:         1    6       9\n",
    "# 3. Seviye:      0    3 \n",
    "# 4. Seviye:         2   4                  "
   ]
  }
 ],
 "metadata": {
  "kernelspec": {
   "display_name": "Python 3 (ipykernel)",
   "language": "python",
   "name": "python3"
  },
  "language_info": {
   "codemirror_mode": {
    "name": "ipython",
    "version": 3
   },
   "file_extension": ".py",
   "mimetype": "text/x-python",
   "name": "python",
   "nbconvert_exporter": "python",
   "pygments_lexer": "ipython3",
   "version": "3.9.7"
  }
 },
 "nbformat": 4,
 "nbformat_minor": 5
}
