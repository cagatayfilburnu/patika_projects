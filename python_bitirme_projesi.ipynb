{
 "cells": [
  {
   "cell_type": "markdown",
   "id": "7036eb56",
   "metadata": {},
   "source": [
    "1- Bir listeyi düzleştiren (flatten) fonksiyon yazın."
   ]
  },
  {
   "cell_type": "code",
   "execution_count": 1,
   "id": "bdda8ad5",
   "metadata": {},
   "outputs": [
    {
     "name": "stdout",
     "output_type": "stream",
     "text": [
      "[1, 'a', 'cat', 2, 3, 'dog', 4, 5]\n"
     ]
    }
   ],
   "source": [
    "a = [[1,'a',['cat'],2],[[[3]],'dog'],4,5]\n",
    "newList = list()\n",
    "\n",
    "def flatten_func(nlist):\n",
    "    \n",
    "    for element in nlist:\n",
    "        if type(element) == list:\n",
    "            flatten_func(element)\n",
    "        \n",
    "        else:\n",
    "            newList.append(element)\n",
    "\n",
    "flatten_func(a)\n",
    "print(newList)"
   ]
  },
  {
   "cell_type": "markdown",
   "id": "6e66d152",
   "metadata": {},
   "source": [
    "2- Verilen listenin içindeki elemanları tersine döndüren bir fonksiyon yazın."
   ]
  },
  {
   "cell_type": "code",
   "execution_count": 2,
   "id": "fac48c90",
   "metadata": {},
   "outputs": [
    {
     "name": "stdout",
     "output_type": "stream",
     "text": [
      "[[7, 6, 5], [4, 3], [2, 1]]\n"
     ]
    }
   ],
   "source": [
    "a = [[1, 2], [3, 4], [5, 6, 7]]\n",
    "newList = list()\n",
    "\n",
    "def reverse_func(nlist):\n",
    "    return [newList.append(sorted(element, reverse=True)) for element in sorted(a, reverse=True)]\n",
    "\n",
    "reverse_func(a)\n",
    "print(newList)"
   ]
  },
  {
   "cell_type": "code",
   "execution_count": null,
   "id": "0a9bb916",
   "metadata": {},
   "outputs": [],
   "source": []
  }
 ],
 "metadata": {
  "kernelspec": {
   "display_name": "Python 3 (ipykernel)",
   "language": "python",
   "name": "python3"
  },
  "language_info": {
   "codemirror_mode": {
    "name": "ipython",
    "version": 3
   },
   "file_extension": ".py",
   "mimetype": "text/x-python",
   "name": "python",
   "nbconvert_exporter": "python",
   "pygments_lexer": "ipython3",
   "version": "3.9.7"
  }
 },
 "nbformat": 4,
 "nbformat_minor": 5
}
